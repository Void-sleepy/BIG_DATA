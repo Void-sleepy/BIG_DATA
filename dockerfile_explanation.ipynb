{
 "cells": [
  {
   "cell_type": "code",
   "execution_count": null,
   "id": "initial_id",
   "metadata": {
    "collapsed": true
   },
   "outputs": [],
   "source": [
    "FROM python:3.9-slim-bullseye\n",
    "\n",
    "WORKDIR /app\n",
    "\n",
    "# Install only necessary system dependencies\n",
    "RUN apt-get update && \\\n",
    "    apt-get install -y wget curl gnupg netcat-openbsd && \\\n",
    "    # Install Adoptium JRE for Spark\n",
    "    wget -O - https://packages.adoptium.net/artifactory/api/gpg/key/public | apt-key add - && \\\n",
    "    echo \"deb https://packages.adoptium.net/artifactory/deb $(grep VERSION_CODENAME /etc/os-release | cut -d= -f2) main\" | tee /etc/apt/sources.list.d/adoptium.list && \\\n",
    "    apt-get update && \\\n",
    "    apt-get install -y temurin-11-jre && \\\n",
    "    apt-get clean && rm -rf /var/lib/apt/lists/*\n",
    "\n",
    "# Copy requirements first to leverage Docker cache\n",
    "COPY requirements.txt .\n",
    "\n",
    "# Install Python dependencies with optimized layer caching\n",
    "# Choose ONE Kafka client library (confluent-kafka is more feature-rich)\n",
    "RUN pip3 install --no-cache-dir -r requirements.txt && \\\n",
    "    pip3 install --no-cache-dir confluent-kafka cassandra-driver pyspark==3.3.0\n",
    "\n",
    "# Add Spark Kafka connector and Cassandra connector\n",
    "RUN mkdir -p /opt/bitnami/spark/jars && \\\n",
    "    wget -P /opt/bitnami/spark/jars https://repo1.maven.org/maven2/org/apache/spark/spark-sql-kafka-0-10_2.12/3.3.0/spark-sql-kafka-0-10_2.12-3.3.0.jar && \\\n",
    "    wget -P /opt/bitnami/spark/jars https://repo1.maven.org/maven2/org/apache/kafka/kafka-clients/3.3.1/kafka-clients-3.3.1.jar && \\\n",
    "    wget -P /opt/bitnami/spark/jars https://repo1.maven.org/maven2/com/datastax/spark/spark-cassandra-connector_2.12/3.3.0/spark-cassandra-connector_2.12-3.3.0.jar\n",
    "\n",
    "# Copy source code\n",
    "COPY . .\n",
    "\n",
    "# Add wait-for-it script\n",
    "COPY wait-for-it.sh /usr/local/bin/wait-for-it.sh\n",
    "RUN chmod +x /usr/local/bin/wait-for-it.sh\n",
    "\n",
    "# Command to run\n",
    "CMD [\"/bin/bash\", \"-c\", \"/usr/local/bin/wait-for-it.sh cassandra:9042 -t 120 && /usr/local/bin/wait-for-it.sh kafka:9092 -t 120 && python3 streaming.py\"]"
   ]
  }
 ],
 "metadata": {
  "kernelspec": {
   "display_name": "Python 3",
   "language": "python",
   "name": "python3"
  },
  "language_info": {
   "codemirror_mode": {
    "name": "ipython",
    "version": 2
   },
   "file_extension": ".py",
   "mimetype": "text/x-python",
   "name": "python",
   "nbconvert_exporter": "python",
   "pygments_lexer": "ipython2",
   "version": "2.7.6"
  }
 },
 "nbformat": 4,
 "nbformat_minor": 5
}
